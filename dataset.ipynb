{
 "cells": [
  {
   "metadata": {},
   "cell_type": "code",
   "outputs": [],
   "execution_count": null,
   "source": [
    "import glob\n",
    "from tqdm.notebook import tqdm\n",
    "\n",
    "import torch\n",
    "from torchvision.transforms import v2 as transforms\n",
    "\n",
    "import numpy as np\n",
    "from PIL import Image\n",
    "\n",
    "from datasets import KeyboardDataset"
   ],
   "id": "8822d18d211b78af"
  },
  {
   "metadata": {},
   "cell_type": "code",
   "outputs": [],
   "execution_count": null,
   "source": [
    "def get_img_dataset_normalisation(_data):\n",
    "    d = np.array([np.array(_img) for _img in _data])\n",
    "    m = d.mean(axis=(0, -1, -2))\n",
    "    s = d.std(axis=(0, -1, -2))\n",
    "    return m, s"
   ],
   "id": "833d9b2c402b7f23"
  },
  {
   "metadata": {},
   "cell_type": "code",
   "outputs": [],
   "execution_count": null,
   "source": [
    "DATASET_VERSION = 1\n",
    "\n",
    "image_paths = glob.glob(f\"assets/keyboards_v{DATASET_VERSION}/**\")"
   ],
   "id": "b1e9da2f3788ca16"
  },
  {
   "metadata": {},
   "cell_type": "code",
   "outputs": [],
   "execution_count": null,
   "source": [
    "images = list(tqdm(map(lambda p: np.array(Image.open(p)), image_paths), total=len(image_paths)))\n",
    "dataset = KeyboardDataset(images, [transforms.ToImage(), transforms.ToDtype(torch.float32, scale=True)])\n",
    "\n",
    "mean, std = get_img_dataset_normalisation(dataset)\n",
    "mean, std"
   ],
   "id": "initial_id"
  }
 ],
 "metadata": {
  "kernelspec": {
   "display_name": "Python 3",
   "language": "python",
   "name": "python3"
  },
  "language_info": {
   "codemirror_mode": {
    "name": "ipython",
    "version": 2
   },
   "file_extension": ".py",
   "mimetype": "text/x-python",
   "name": "python",
   "nbconvert_exporter": "python",
   "pygments_lexer": "ipython2",
   "version": "2.7.6"
  }
 },
 "nbformat": 4,
 "nbformat_minor": 5
}
