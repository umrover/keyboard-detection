{
 "cells": [
  {
   "metadata": {
    "ExecuteTime": {
     "end_time": "2024-10-21T23:23:50.324929Z",
     "start_time": "2024-10-21T23:23:48.611644Z"
    }
   },
   "cell_type": "code",
   "source": [
    "import glob\n",
    "from tqdm.notebook import tqdm\n",
    "\n",
    "import torch\n",
    "from torchvision.transforms import v2 as transforms\n",
    "\n",
    "import numpy as np\n",
    "from PIL import Image\n",
    "\n",
    "from datasets import KeyboardDataset"
   ],
   "id": "8822d18d211b78af",
   "outputs": [],
   "execution_count": 1
  },
  {
   "metadata": {
    "ExecuteTime": {
     "end_time": "2024-10-21T23:23:50.331343Z",
     "start_time": "2024-10-21T23:23:50.327939Z"
    }
   },
   "cell_type": "code",
   "source": [
    "def get_img_dataset_normalisation(_data):\n",
    "    d = np.array([np.array(_img) for _img in _data])\n",
    "    m = d.mean(axis=(0, -1, -2))\n",
    "    s = d.std(axis=(0, -1, -2))\n",
    "    return m, s"
   ],
   "id": "833d9b2c402b7f23",
   "outputs": [],
   "execution_count": 2
  },
  {
   "metadata": {
    "ExecuteTime": {
     "end_time": "2024-10-21T23:23:50.764452Z",
     "start_time": "2024-10-21T23:23:50.758469Z"
    }
   },
   "cell_type": "code",
   "source": [
    "DATASET_VERSION = 2\n",
    "\n",
    "image_paths = glob.glob(f\"assets/keyboards_v{DATASET_VERSION}/**\")"
   ],
   "id": "b1e9da2f3788ca16",
   "outputs": [],
   "execution_count": 3
  },
  {
   "metadata": {
    "ExecuteTime": {
     "end_time": "2024-10-21T23:24:06.872963Z",
     "start_time": "2024-10-21T23:23:51.371643Z"
    }
   },
   "cell_type": "code",
   "source": [
    "images = list(tqdm(map(lambda p: np.array(Image.open(p)), image_paths), total=len(image_paths)))\n",
    "dataset = KeyboardDataset(images, [transforms.ToImage(), transforms.ToDtype(torch.float32, scale=True)])\n",
    "\n",
    "mean, std = get_img_dataset_normalisation(dataset)\n",
    "mean, std"
   ],
   "id": "initial_id",
   "outputs": [
    {
     "data": {
      "text/plain": [
       "  0%|          | 0/1000 [00:00<?, ?it/s]"
      ],
      "application/vnd.jupyter.widget-view+json": {
       "version_major": 2,
       "version_minor": 0,
       "model_id": "d3343ce1b04e4d42b31a0c8eb4950b0a"
      }
     },
     "metadata": {},
     "output_type": "display_data"
    },
    {
     "data": {
      "text/plain": [
       "(array([0.2517634 , 0.26364404, 0.27402246], dtype=float32),\n",
       " array([0.241223  , 0.24496816, 0.25682035], dtype=float32))"
      ]
     },
     "execution_count": 4,
     "metadata": {},
     "output_type": "execute_result"
    }
   ],
   "execution_count": 4
  }
 ],
 "metadata": {
  "kernelspec": {
   "display_name": "Python 3",
   "language": "python",
   "name": "python3"
  },
  "language_info": {
   "codemirror_mode": {
    "name": "ipython",
    "version": 2
   },
   "file_extension": ".py",
   "mimetype": "text/x-python",
   "name": "python",
   "nbconvert_exporter": "python",
   "pygments_lexer": "ipython2",
   "version": "2.7.6"
  }
 },
 "nbformat": 4,
 "nbformat_minor": 5
}
