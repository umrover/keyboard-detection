{
 "cells": [
  {
   "metadata": {
    "ExecuteTime": {
     "end_time": "2024-11-25T04:52:57.205860Z",
     "start_time": "2024-11-25T04:52:57.199586Z"
    }
   },
   "cell_type": "code",
   "source": [
    "import glob\n",
    "import pickle\n",
    "from tqdm.notebook import tqdm\n",
    "\n",
    "import torch\n",
    "from torchvision.transforms import v2 as transforms\n",
    "\n",
    "from keyrover.datasets import KeyboardDataset, calculate_dataset_norm_params\n",
    "from keyrover import *"
   ],
   "id": "8822d18d211b78af",
   "outputs": [],
   "execution_count": 9
  },
  {
   "metadata": {
    "ExecuteTime": {
     "end_time": "2024-11-25T04:52:57.198439Z",
     "start_time": "2024-11-25T04:52:14.777401Z"
    }
   },
   "cell_type": "code",
   "source": [
    "norm_parameters = {}\n",
    "\n",
    "for folder in os.listdir(\".\"):\n",
    "    if not os.path.isdir(folder):\n",
    "        continue\n",
    "\n",
    "    image_paths = glob.glob(f\"{folder}/*\")\n",
    "\n",
    "    images = list(tqdm(map(cv2.imread, image_paths), total=len(image_paths)))\n",
    "    dataset = KeyboardDataset(images, [transforms.ToImage(), transforms.ToDtype(torch.float32, scale=True)])\n",
    "    \n",
    "    mean, std = calculate_dataset_norm_params(dataset)\n",
    "    norm_parameters[folder] = {\"mean\": mean, \"std\": std}\n",
    "    \n",
    "norm_parameters"
   ],
   "id": "2c0bd45025ee8d56",
   "outputs": [
    {
     "data": {
      "text/plain": [
       "  0%|          | 0/4999 [00:00<?, ?it/s]"
      ],
      "application/vnd.jupyter.widget-view+json": {
       "version_major": 2,
       "version_minor": 0,
       "model_id": "541804b468cf4545ad827645d3e93183"
      }
     },
     "metadata": {},
     "output_type": "display_data"
    },
    {
     "data": {
      "text/plain": [
       "  0%|          | 0/4999 [00:00<?, ?it/s]"
      ],
      "application/vnd.jupyter.widget-view+json": {
       "version_major": 2,
       "version_minor": 0,
       "model_id": "fbf9c0893d534e45beb183292c8249f2"
      }
     },
     "metadata": {},
     "output_type": "display_data"
    },
    {
     "data": {
      "text/plain": [
       "{'v4-nodistort': {'mean': array([    0.37427,     0.39571,     0.39352], dtype=float32),\n",
       "  'std': array([    0.30268,     0.29923,     0.30724], dtype=float32)},\n",
       " 'v4': {'mean': array([    0.35522,     0.37451,     0.37413], dtype=float32),\n",
       "  'std': array([    0.29598,     0.29327,     0.30097], dtype=float32)}}"
      ]
     },
     "execution_count": 8,
     "metadata": {},
     "output_type": "execute_result"
    }
   ],
   "execution_count": 8
  },
  {
   "metadata": {
    "ExecuteTime": {
     "end_time": "2024-11-25T04:52:57.209028Z",
     "start_time": "2024-11-25T04:52:57.206616Z"
    }
   },
   "cell_type": "code",
   "source": [
    "with open(\"normalization.bin\", \"wb\") as f:\n",
    "    pickle.dump(norm_parameters, f)"
   ],
   "id": "b1e9da2f3788ca16",
   "outputs": [],
   "execution_count": 10
  }
 ],
 "metadata": {
  "kernelspec": {
   "display_name": "Python 3",
   "language": "python",
   "name": "python3"
  },
  "language_info": {
   "codemirror_mode": {
    "name": "ipython",
    "version": 2
   },
   "file_extension": ".py",
   "mimetype": "text/x-python",
   "name": "python",
   "nbconvert_exporter": "python",
   "pygments_lexer": "ipython2",
   "version": "2.7.6"
  }
 },
 "nbformat": 4,
 "nbformat_minor": 5
}
