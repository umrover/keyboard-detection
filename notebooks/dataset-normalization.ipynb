{
 "cells": [
  {
   "metadata": {
    "ExecuteTime": {
     "end_time": "2024-11-02T06:06:12.319688Z",
     "start_time": "2024-11-02T06:06:12.317096Z"
    }
   },
   "cell_type": "code",
   "source": [
    "import glob\n",
    "from tqdm.notebook import tqdm\n",
    "\n",
    "import torch\n",
    "from torchvision.transforms import v2 as transforms\n",
    "\n",
    "from keyrover.datasets import KeyboardDataset, calculate_dataset_norm_params\n",
    "from keyrover import *"
   ],
   "id": "8822d18d211b78af",
   "outputs": [],
   "execution_count": 6
  },
  {
   "metadata": {
    "ExecuteTime": {
     "end_time": "2024-11-02T06:06:12.915330Z",
     "start_time": "2024-11-02T06:06:12.909479Z"
    }
   },
   "cell_type": "code",
   "source": "image_paths = glob.glob(f\"{SEGMENTATION_DATASET}/*\")",
   "id": "b1e9da2f3788ca16",
   "outputs": [],
   "execution_count": 7
  },
  {
   "metadata": {
    "ExecuteTime": {
     "end_time": "2024-11-02T06:06:29.349438Z",
     "start_time": "2024-11-02T06:06:22.330240Z"
    }
   },
   "cell_type": "code",
   "source": [
    "images = list(tqdm(map(cv2.imread, image_paths), total=len(image_paths)))\n",
    "dataset = KeyboardDataset(images, [transforms.ToImage(), transforms.ToDtype(torch.float32, scale=True)])\n",
    "\n",
    "mean, std = calculate_dataset_norm_params(dataset)\n",
    "mean, std"
   ],
   "id": "initial_id",
   "outputs": [
    {
     "data": {
      "text/plain": [
       "  0%|          | 0/2004 [00:00<?, ?it/s]"
      ],
      "application/vnd.jupyter.widget-view+json": {
       "version_major": 2,
       "version_minor": 0,
       "model_id": "e8f6fdc44d70422a812dae38b7bad0e0"
      }
     },
     "metadata": {},
     "output_type": "display_data"
    },
    {
     "data": {
      "text/plain": [
       "(array([0.3017469 , 0.3197499 , 0.32191873], dtype=float32),\n",
       " array([0.2868488 , 0.28948465, 0.29791737], dtype=float32))"
      ]
     },
     "execution_count": 9,
     "metadata": {},
     "output_type": "execute_result"
    }
   ],
   "execution_count": 9
  }
 ],
 "metadata": {
  "kernelspec": {
   "display_name": "Python 3",
   "language": "python",
   "name": "python3"
  },
  "language_info": {
   "codemirror_mode": {
    "name": "ipython",
    "version": 2
   },
   "file_extension": ".py",
   "mimetype": "text/x-python",
   "name": "python",
   "nbconvert_exporter": "python",
   "pygments_lexer": "ipython2",
   "version": "2.7.6"
  }
 },
 "nbformat": 4,
 "nbformat_minor": 5
}
