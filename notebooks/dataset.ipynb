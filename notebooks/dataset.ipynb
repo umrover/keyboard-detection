{
 "cells": [
  {
   "metadata": {
    "ExecuteTime": {
     "end_time": "2024-10-31T17:03:21.613771Z",
     "start_time": "2024-10-31T17:03:19.913438Z"
    }
   },
   "cell_type": "code",
   "source": [
    "import glob\n",
    "from tqdm.notebook import tqdm\n",
    "\n",
    "import torch\n",
    "from torchvision.transforms import v2 as transforms\n",
    "\n",
    "import numpy as np\n",
    "from PIL import Image\n",
    "\n",
    "from keyrover.datasets import KeyboardDataset\n",
    "from keyrover import SEGMENTATION_DATASET"
   ],
   "id": "8822d18d211b78af",
   "outputs": [],
   "execution_count": 1
  },
  {
   "metadata": {
    "ExecuteTime": {
     "end_time": "2024-10-31T17:03:21.619465Z",
     "start_time": "2024-10-31T17:03:21.617080Z"
    }
   },
   "cell_type": "code",
   "source": [
    "def get_img_dataset_normalisation(_data):\n",
    "    d = np.array([np.array(_img) for _img in _data])\n",
    "    m = d.mean(axis=(0, -1, -2))\n",
    "    s = d.std(axis=(0, -1, -2))\n",
    "    return m, s"
   ],
   "id": "833d9b2c402b7f23",
   "outputs": [],
   "execution_count": 2
  },
  {
   "metadata": {
    "ExecuteTime": {
     "end_time": "2024-10-31T17:03:21.630566Z",
     "start_time": "2024-10-31T17:03:21.620133Z"
    }
   },
   "cell_type": "code",
   "source": "image_paths = glob.glob(f\"{SEGMENTATION_DATASET}/**.png\")",
   "id": "b1e9da2f3788ca16",
   "outputs": [],
   "execution_count": 3
  },
  {
   "metadata": {
    "ExecuteTime": {
     "end_time": "2024-10-31T17:03:51.176856Z",
     "start_time": "2024-10-31T17:03:21.638580Z"
    }
   },
   "cell_type": "code",
   "source": [
    "images = list(tqdm(map(lambda p: np.array(Image.open(p)), image_paths), total=len(image_paths)))\n",
    "dataset = KeyboardDataset(images, [transforms.ToImage(), transforms.ToDtype(torch.float32, scale=True)])\n",
    "\n",
    "mean, std = get_img_dataset_normalisation(dataset)\n",
    "mean, std"
   ],
   "id": "initial_id",
   "outputs": [
    {
     "data": {
      "text/plain": [
       "  0%|          | 0/2004 [00:00<?, ?it/s]"
      ],
      "application/vnd.jupyter.widget-view+json": {
       "version_major": 2,
       "version_minor": 0,
       "model_id": "a69ffbbbe1fd465d909d3e4b81ad37de"
      }
     },
     "metadata": {},
     "output_type": "display_data"
    },
    {
     "data": {
      "text/plain": [
       "(array([0.26883143, 0.2842106 , 0.28818682], dtype=float32),\n",
       " array([0.24757428, 0.24842726, 0.25830477], dtype=float32))"
      ]
     },
     "execution_count": 4,
     "metadata": {},
     "output_type": "execute_result"
    }
   ],
   "execution_count": 4
  }
 ],
 "metadata": {
  "kernelspec": {
   "display_name": "Python 3",
   "language": "python",
   "name": "python3"
  },
  "language_info": {
   "codemirror_mode": {
    "name": "ipython",
    "version": 2
   },
   "file_extension": ".py",
   "mimetype": "text/x-python",
   "name": "python",
   "nbconvert_exporter": "python",
   "pygments_lexer": "ipython2",
   "version": "2.7.6"
  }
 },
 "nbformat": 4,
 "nbformat_minor": 5
}
