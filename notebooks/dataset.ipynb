{
 "cells": [
  {
   "metadata": {
    "ExecuteTime": {
     "end_time": "2024-10-27T14:22:01.541981Z",
     "start_time": "2024-10-27T14:21:59.781869Z"
    }
   },
   "cell_type": "code",
   "source": [
    "import glob\n",
    "from tqdm.notebook import tqdm\n",
    "\n",
    "import torch\n",
    "from torchvision.transforms import v2 as transforms\n",
    "\n",
    "import numpy as np\n",
    "from PIL import Image\n",
    "\n",
    "from datasets import KeyboardDataset"
   ],
   "id": "8822d18d211b78af",
   "outputs": [],
   "execution_count": 1
  },
  {
   "metadata": {
    "ExecuteTime": {
     "end_time": "2024-10-27T14:22:01.545734Z",
     "start_time": "2024-10-27T14:22:01.542993Z"
    }
   },
   "cell_type": "code",
   "source": [
    "def get_img_dataset_normalisation(_data):\n",
    "    d = np.array([np.array(_img) for _img in _data])\n",
    "    m = d.mean(axis=(0, -1, -2))\n",
    "    s = d.std(axis=(0, -1, -2))\n",
    "    return m, s"
   ],
   "id": "833d9b2c402b7f23",
   "outputs": [],
   "execution_count": 2
  },
  {
   "metadata": {
    "ExecuteTime": {
     "end_time": "2024-10-27T14:22:14.007936Z",
     "start_time": "2024-10-27T14:22:14.002735Z"
    }
   },
   "cell_type": "code",
   "source": [
    "DATASET_VERSION = 3\n",
    "\n",
    "image_paths = glob.glob(f\"segmentation/v{DATASET_VERSION}/**.png\")"
   ],
   "id": "b1e9da2f3788ca16",
   "outputs": [],
   "execution_count": 4
  },
  {
   "metadata": {
    "ExecuteTime": {
     "end_time": "2024-10-27T14:22:43.688962Z",
     "start_time": "2024-10-27T14:22:14.411323Z"
    }
   },
   "cell_type": "code",
   "source": [
    "images = list(tqdm(map(lambda p: np.array(Image.open(p)), image_paths), total=len(image_paths)))\n",
    "dataset = KeyboardDataset(images, [transforms.ToImage(), transforms.ToDtype(torch.float32, scale=True)])\n",
    "\n",
    "mean, std = get_img_dataset_normalisation(dataset)\n",
    "mean, std"
   ],
   "id": "initial_id",
   "outputs": [
    {
     "data": {
      "text/plain": [
       "  0%|          | 0/2004 [00:00<?, ?it/s]"
      ],
      "application/vnd.jupyter.widget-view+json": {
       "version_major": 2,
       "version_minor": 0,
       "model_id": "e94700cf525b4ed6bc4d94c2365745f4"
      }
     },
     "metadata": {},
     "output_type": "display_data"
    },
    {
     "data": {
      "text/plain": [
       "(array([0.26772413, 0.28418145, 0.28728417], dtype=float32),\n",
       " array([0.24711585, 0.24890053, 0.25881228], dtype=float32))"
      ]
     },
     "execution_count": 5,
     "metadata": {},
     "output_type": "execute_result"
    }
   ],
   "execution_count": 5
  }
 ],
 "metadata": {
  "kernelspec": {
   "display_name": "Python 3",
   "language": "python",
   "name": "python3"
  },
  "language_info": {
   "codemirror_mode": {
    "name": "ipython",
    "version": 2
   },
   "file_extension": ".py",
   "mimetype": "text/x-python",
   "name": "python",
   "nbconvert_exporter": "python",
   "pygments_lexer": "ipython2",
   "version": "2.7.6"
  }
 },
 "nbformat": 4,
 "nbformat_minor": 5
}
