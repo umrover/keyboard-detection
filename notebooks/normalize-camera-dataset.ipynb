{
 "cells": [
  {
   "cell_type": "code",
   "id": "initial_id",
   "metadata": {
    "collapsed": true,
    "ExecuteTime": {
     "end_time": "2024-11-21T00:35:14.356998Z",
     "start_time": "2024-11-21T00:35:14.355174Z"
    }
   },
   "source": [
    "import pickle\n",
    "\n",
    "from keyrover.homography import *"
   ],
   "outputs": [],
   "execution_count": 5
  },
  {
   "metadata": {
    "ExecuteTime": {
     "end_time": "2024-11-21T00:35:14.504356Z",
     "start_time": "2024-11-21T00:35:14.500579Z"
    }
   },
   "cell_type": "code",
   "source": [
    "with open(\"blender/camera_data.bin\", \"rb\") as f:\n",
    "    camera_data = pickle.load(f)"
   ],
   "id": "bfaabe46616f0d64",
   "outputs": [],
   "execution_count": 6
  },
  {
   "metadata": {
    "ExecuteTime": {
     "end_time": "2024-11-21T00:35:14.652204Z",
     "start_time": "2024-11-21T00:35:14.646321Z"
    }
   },
   "cell_type": "code",
   "source": [
    "n = 0\n",
    "transforms = []\n",
    "\n",
    "for location, rotation in zip(camera_data[\"location\"], camera_data[\"rotation\"]):\n",
    "    transforms.append([*rotation, *location])\n",
    "    n += 1\n",
    "\n",
    "transforms = np.array(transforms)\n",
    "mean = transforms.mean(axis=0)\n",
    "std = transforms.std(axis=0)"
   ],
   "id": "c980ff862a543280",
   "outputs": [],
   "execution_count": 7
  },
  {
   "metadata": {
    "ExecuteTime": {
     "end_time": "2024-11-21T00:35:15.097268Z",
     "start_time": "2024-11-21T00:35:15.086727Z"
    }
   },
   "cell_type": "code",
   "source": [
    "transforms = []\n",
    "\n",
    "for location, rotation in zip(camera_data[\"location\"], camera_data[\"rotation\"]):\n",
    "    transform = np.array([*rotation, *location])\n",
    "    transform -= mean\n",
    "    transform /= std\n",
    "    transforms.append(transform)\n",
    "\n",
    "transforms = torch.tensor(np.array(transforms), dtype=torch.float32)\n",
    "\n",
    "with open(\"blender/normalized_camera_data.bin\", \"wb\") as f:\n",
    "    pickle.dump(transforms, f)"
   ],
   "id": "98ff9fb1ddf84fc2",
   "outputs": [],
   "execution_count": 8
  }
 ],
 "metadata": {
  "kernelspec": {
   "display_name": "Python 3",
   "language": "python",
   "name": "python3"
  },
  "language_info": {
   "codemirror_mode": {
    "name": "ipython",
    "version": 2
   },
   "file_extension": ".py",
   "mimetype": "text/x-python",
   "name": "python",
   "nbconvert_exporter": "python",
   "pygments_lexer": "ipython2",
   "version": "2.7.6"
  }
 },
 "nbformat": 4,
 "nbformat_minor": 5
}
