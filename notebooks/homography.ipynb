{
 "cells": [
  {
   "cell_type": "code",
   "id": "initial_id",
   "metadata": {
    "collapsed": true,
    "ExecuteTime": {
     "end_time": "2024-11-19T22:21:21.024242Z",
     "start_time": "2024-11-19T22:21:19.418080Z"
    }
   },
   "source": [
    "import numpy as np\n",
    "import torch\n",
    "\n",
    "from keyrover import *"
   ],
   "outputs": [],
   "execution_count": 2
  },
  {
   "metadata": {
    "ExecuteTime": {
     "end_time": "2024-11-20T00:01:05.081026Z",
     "start_time": "2024-11-20T00:01:05.077257Z"
    }
   },
   "cell_type": "code",
   "source": [
    "x = np.linspace(0, 255, 200)\n",
    "y = np.linspace(0, 255, 200)\n",
    "xx, yy = np.meshgrid(x, y)\n",
    "ones = np.ones(xx.shape)\n",
    "coordinates = np.stack((xx, yy, ones), axis=-1)\n",
    "\n",
    "p1 = np.array([0, 0])\n",
    "p2 = np.array([255, 0])\n",
    "p3 = np.array([255, 255])\n",
    "p4 = np.array([0, 255])"
   ],
   "id": "9ed2a0c4fa22df01",
   "outputs": [],
   "execution_count": 11
  },
  {
   "metadata": {
    "ExecuteTime": {
     "end_time": "2024-11-20T00:03:41.736771Z",
     "start_time": "2024-11-20T00:03:41.732013Z"
    }
   },
   "cell_type": "code",
   "source": [
    "x1, y1 = p1\n",
    "x2, y2 = p2\n",
    "x3, y3 = p3\n",
    "x4, y4 = p4\n",
    "\n",
    "M = np.array([[x1, x2, x3],\n",
    "              [y1, y2, y3],\n",
    "              [1, 1, 1]])\n",
    "\n",
    "H = np.linalg.inv(M) @ np.array([x4, y4, 1])\n",
    "A = M * H\n",
    "\n",
    "print(H)\n",
    "\n",
    "Ms = np.array([[0, 255, 255],\n",
    "               [0, 0, 255],\n",
    "               [1, 1, 1]])\n",
    "\n",
    "Hs = np.linalg.inv(Ms) @ np.array([0, 255, 1])\n",
    "B = Ms * Hs\n",
    "\n",
    "C = B @ np.linalg.inv(A)\n",
    "C"
   ],
   "id": "8072f3d02dc4188c",
   "outputs": [
    {
     "name": "stdout",
     "output_type": "stream",
     "text": [
      "[          1          -1           1]\n"
     ]
    },
    {
     "data": {
      "text/plain": [
       "array([[          1, -1.3878e-17,           0],\n",
       "       [          0,           1,           0],\n",
       "       [          0,           0,           1]])"
      ]
     },
     "execution_count": 18,
     "metadata": {},
     "output_type": "execute_result"
    }
   ],
   "execution_count": 18
  },
  {
   "metadata": {
    "ExecuteTime": {
     "end_time": "2024-11-20T00:02:36.591919Z",
     "start_time": "2024-11-20T00:02:36.551609Z"
    }
   },
   "cell_type": "code",
   "source": [
    "result = np.einsum('ij, xyj -> xyi', C, coordinates)\n",
    "result = result / result[:, :, -1][:, :, None]  # dehomogenization\n",
    "result[result.max(axis=2) > 255] = 0\n",
    "result[result.min(axis=2) < 0] = 0\n",
    "imshow(result)"
   ],
   "id": "975716dea2d8076a",
   "outputs": [
    {
     "data": {
      "text/plain": [
       "<Figure size 640x480 with 1 Axes>"
      ],
      "image/png": "[encoded data removed]"
     },
     "metadata": {},
     "output_type": "display_data"
    }
   ],
   "execution_count": 16
  },
  {
   "metadata": {
    "ExecuteTime": {
     "end_time": "2024-11-19T22:21:22.400623Z",
     "start_time": "2024-11-19T22:21:22.394138Z"
    }
   },
   "cell_type": "code",
   "source": [
    "x = np.linspace(0, 255, 640)\n",
    "y = np.linspace(0, 255, 480)\n",
    "xx, yy = np.meshgrid(x, y)\n",
    "ones = np.ones(xx.shape)\n",
    "\n",
    "coordinates = np.stack((xx, yy, ones), axis=-1)\n",
    "coordinates = torch.tensor(coordinates, requires_grad=True, dtype=torch.float)\n",
    "\n",
    "p1 = torch.tensor([0, 0], requires_grad=True, dtype=torch.float)\n",
    "p2 = torch.tensor([255, 0], requires_grad=True, dtype=torch.float)\n",
    "p3 = torch.tensor([255, 255], requires_grad=True, dtype=torch.float)\n",
    "p4 = torch.tensor([0, 255], requires_grad=True, dtype=torch.float)"
   ],
   "id": "a602a6557445f732",
   "outputs": [],
   "execution_count": 7
  },
  {
   "metadata": {
    "ExecuteTime": {
     "end_time": "2024-11-19T22:21:22.693218Z",
     "start_time": "2024-11-19T22:21:22.688385Z"
    }
   },
   "cell_type": "code",
   "source": [
    "x1, y1 = p1\n",
    "x2, y2 = p2\n",
    "x3, y3 = p3\n",
    "x4, y4 = p4\n",
    "\n",
    "M = torch.tensor([[x1, x2, x3],\n",
    "                  [y1, y2, y3],\n",
    "                  [1, 1, 1]], dtype=torch.float)\n",
    "X = torch.tensor([x4, y4, 1], dtype=torch.float)\n",
    "\n",
    "M_inv = torch.inverse(M)\n",
    "\n",
    "H = M_inv @ X\n",
    "A = M * H\n",
    "A_inv = torch.inverse(A)\n",
    "\n",
    "C = torch.tensor(B, dtype=torch.float) @ A_inv\n",
    "C"
   ],
   "id": "8c275ed139985c29",
   "outputs": [
    {
     "data": {
      "text/plain": [
       "tensor([[1.0000e+00, 5.9139e-08, 0.0000e+00],\n",
       "        [0.0000e+00, 1.0000e+00, 0.0000e+00],\n",
       "        [0.0000e+00, 0.0000e+00, 1.0000e+00]])"
      ]
     },
     "execution_count": 8,
     "metadata": {},
     "output_type": "execute_result"
    }
   ],
   "execution_count": 8
  },
  {
   "metadata": {
    "ExecuteTime": {
     "end_time": "2024-11-19T22:21:25.326389Z",
     "start_time": "2024-11-19T22:21:25.265986Z"
    }
   },
   "cell_type": "code",
   "source": [
    "result = torch.einsum('ij, xyj -> xyi', C, coordinates)\n",
    "result = result / result[:, :, -1][:, :, None]  # dehomogenization\n",
    "result[result.max(axis=2)[0] > 255] = 0\n",
    "result[result.min(axis=2)[0] < 0] = 0\n",
    "imshow(result)"
   ],
   "id": "c0b2e6480d30cf1d",
   "outputs": [
    {
     "data": {
      "text/plain": [
       "<Figure size 640x480 with 1 Axes>"
      ],
      "image/png": "[encoded data removed]"
     },
     "metadata": {},
     "output_type": "display_data"
    }
   ],
   "execution_count": 9
  }
 ],
 "metadata": {
  "kernelspec": {
   "display_name": "Python 3",
   "language": "python",
   "name": "python3"
  },
  "language_info": {
   "codemirror_mode": {
    "name": "ipython",
    "version": 2
   },
   "file_extension": ".py",
   "mimetype": "text/x-python",
   "name": "python",
   "nbconvert_exporter": "python",
   "pygments_lexer": "ipython2",
   "version": "2.7.6"
  }
 },
 "nbformat": 4,
 "nbformat_minor": 5
}
