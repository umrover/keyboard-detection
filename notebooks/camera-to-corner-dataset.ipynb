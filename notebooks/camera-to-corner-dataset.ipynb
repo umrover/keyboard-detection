{
 "cells": [
  {
   "cell_type": "code",
   "id": "initial_id",
   "metadata": {
    "collapsed": true,
    "ExecuteTime": {
     "end_time": "2024-11-21T04:12:18.112048Z",
     "start_time": "2024-11-21T04:12:14.666732Z"
    }
   },
   "source": [
    "import pickle\n",
    "\n",
    "from keyrover import *\n",
    "from keyrover.homography import *"
   ],
   "outputs": [],
   "execution_count": 1
  },
  {
   "metadata": {
    "ExecuteTime": {
     "end_time": "2024-11-21T04:12:18.131808Z",
     "start_time": "2024-11-21T04:12:18.118520Z"
    }
   },
   "cell_type": "code",
   "source": [
    "SIZE = (256, 256)\n",
    "\n",
    "device = get_device()\n",
    "\n",
    "with open(\"blender/camera_data.bin\", \"rb\") as f:\n",
    "    camera_data = pickle.load(f)"
   ],
   "id": "dbf2def4c5410fce",
   "outputs": [],
   "execution_count": 2
  },
  {
   "metadata": {
    "ExecuteTime": {
     "end_time": "2024-11-21T04:30:59.204010Z",
     "start_time": "2024-11-21T04:30:59.121493Z"
    }
   },
   "cell_type": "code",
   "source": [
    "i = 102\n",
    "\n",
    "location = camera_data[\"location\"][i]\n",
    "rotation = camera_data[\"rotation\"][i]\n",
    "\n",
    "camera = torch.tensor([[*rotation, *location]], device=device, dtype=torch.float32)\n",
    "corners = prediction_to_corners(camera)\n",
    "    \n",
    "a, b, c, d = map(lambda t: t.cpu(), corners)\n",
    "plt.scatter(*a)\n",
    "plt.scatter(*b)\n",
    "plt.scatter(*c)\n",
    "plt.scatter(*d)\n",
    "\n",
    "quad = np.array([a, b, c, d, a]).T[0]\n",
    "plt.plot(*quad, 'r-')\n",
    "plt.xlim(0, 640)\n",
    "plt.ylim(480, 0)"
   ],
   "id": "b8042fe6017fd69",
   "outputs": [
    {
     "data": {
      "text/plain": [
       "(480.0, 0.0)"
      ]
     },
     "execution_count": 34,
     "metadata": {},
     "output_type": "execute_result"
    },
    {
     "data": {
      "text/plain": [
       "<Figure size 640x480 with 1 Axes>"
      ],
      "image/png": "[encoded data removed]"
     },
     "metadata": {},
     "output_type": "display_data"
    }
   ],
   "execution_count": 34
  },
  {
   "metadata": {
    "ExecuteTime": {
     "end_time": "2024-11-21T04:42:46.505099Z",
     "start_time": "2024-11-21T04:42:46.443118Z"
    }
   },
   "cell_type": "code",
   "source": [
    "locations = np.array(camera_data[\"location\"])\n",
    "rotations = np.array(camera_data[\"rotation\"])\n",
    "\n",
    "camera_locations = np.hstack([rotations, locations])\n",
    "camera_locations = torch.tensor(camera_locations, device=device, dtype=torch.float32)\n",
    "\n",
    "corners = prediction_to_corners(camera_locations)\n",
    "print(corners)\n",
    "corners = np.array(tuple(map(lambda t: t.cpu().numpy(), corners)))\n",
    "corners = np.vstack(corners).T\n",
    "\n",
    "mean = corners.mean(axis=0, keepdims=True)\n",
    "std = corners.std(axis=0, keepdims=True)\n",
    "\n",
    "corners = (corners - mean) / std\n",
    "corners"
   ],
   "id": "7860886bff488a97",
   "outputs": [
    {
     "name": "stdout",
     "output_type": "stream",
     "text": [
      "(tensor([[ 525.5950, -129.8298,  486.0759,  ...,  -53.2168,  724.1497,  283.0581],\n",
      "        [ 610.0858,  123.7322,  579.4208,  ...,   -3.5823,  -87.3457,  632.5768]], device='mps:0'), tensor([[ 278.3471,  361.0503,  332.8941,  ...,  581.1555,  150.6584,  484.5013],\n",
      "        [ -26.9529,  353.0044, -219.8937,  ...,  728.2862,  258.4885,   30.4871]], device='mps:0'), tensor([[  94.0053,  429.4090,   98.2367,  ...,  810.3675,  259.4764,  315.1675],\n",
      "        [  53.2162,  164.9558, -189.9342,  ...,  434.9232,  492.3589,   -9.2654]], device='mps:0'), tensor([[ 309.1149,  -41.8203,  185.5001,  ...,  154.2661,  846.4612,   73.9231],\n",
      "        [ 714.3154,  -42.9593,  642.1172,  ..., -199.5493,  124.0093,  538.1232]], device='mps:0'))\n"
     ]
    },
    {
     "data": {
      "text/plain": [
       "array([[      1.367,        0.95,    -0.83622, ...,    -0.39182,     0.58357,      1.7256],\n",
       "       [   -0.85144,    -0.56039,    -0.55227, ...,   -0.053134,    -0.59311,    -0.65782],\n",
       "       [     1.2332,     0.85477,    -0.64894, ...,     -1.1288,     0.16909,      1.4984],\n",
       "       ...,\n",
       "       [   -0.59213,    -0.95576,     0.20343, ...,     0.76515,    0.064365,     -1.1507],\n",
       "       [      2.039,     -1.2159,     -1.2746, ...,     0.93924,      2.3853,    -0.13231],\n",
       "       [    0.54605,      1.0198,    -0.12842, ...,    -0.58121,    -0.20502,       1.171]], dtype=float32)"
      ]
     },
     "execution_count": 54,
     "metadata": {},
     "output_type": "execute_result"
    }
   ],
   "execution_count": 54
  },
  {
   "metadata": {
    "ExecuteTime": {
     "end_time": "2024-11-21T04:42:48.147264Z",
     "start_time": "2024-11-21T04:42:48.143032Z"
    }
   },
   "cell_type": "code",
   "source": "mean, std",
   "id": "e34e7409963d11f2",
   "outputs": [
    {
     "data": {
      "text/plain": [
       "(array([[     121.73,      304.18,      521.91,      321.19,      518.25,      182.49,      135.07,      166.05]], dtype=float32),\n",
       " array([[     295.45,      322.01,      291.26,      333.85,      291.21,      329.92,      298.24,      317.73]], dtype=float32))"
      ]
     },
     "execution_count": 55,
     "metadata": {},
     "output_type": "execute_result"
    }
   ],
   "execution_count": 55
  },
  {
   "metadata": {
    "ExecuteTime": {
     "end_time": "2024-11-21T04:42:48.631168Z",
     "start_time": "2024-11-21T04:42:48.627575Z"
    }
   },
   "cell_type": "code",
   "source": [
    "with open(\"datasets/corners/corners.pkl\", \"wb\") as f:\n",
    "    pickle.dump(corners, f)"
   ],
   "id": "932576006572eac1",
   "outputs": [],
   "execution_count": 56
  }
 ],
 "metadata": {
  "kernelspec": {
   "display_name": "Python 3",
   "language": "python",
   "name": "python3"
  },
  "language_info": {
   "codemirror_mode": {
    "name": "ipython",
    "version": 2
   },
   "file_extension": ".py",
   "mimetype": "text/x-python",
   "name": "python",
   "nbconvert_exporter": "python",
   "pygments_lexer": "ipython2",
   "version": "2.7.6"
  }
 },
 "nbformat": 4,
 "nbformat_minor": 5
}
