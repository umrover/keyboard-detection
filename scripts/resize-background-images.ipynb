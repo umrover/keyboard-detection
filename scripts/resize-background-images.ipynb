{
 "cells": [
  {
   "cell_type": "code",
   "id": "initial_id",
   "metadata": {
    "collapsed": true,
    "ExecuteTime": {
     "end_time": "2024-10-27T04:11:05.786366Z",
     "start_time": "2024-10-27T04:11:05.731341Z"
    }
   },
   "source": [
    "import os\n",
    "import glob\n",
    "from tqdm.notebook import tqdm\n",
    "\n",
    "from PIL import Image\n",
    "from keyrover import RAW_BACKGROUNDS, RESIZED_BACKGROUNDS"
   ],
   "outputs": [],
   "execution_count": 14
  },
  {
   "metadata": {
    "ExecuteTime": {
     "end_time": "2024-10-27T04:12:57.631223Z",
     "start_time": "2024-10-27T04:11:06.117815Z"
    }
   },
   "cell_type": "code",
   "source": [
    "if not os.path.isdir(RESIZED_BACKGROUNDS):\n",
    "    os.mkdir(RESIZED_BACKGROUNDS)\n",
    "\n",
    "for path in tqdm(glob.glob(f\"{RAW_BACKGROUNDS}/*\")):\n",
    "    img = Image.open(path)\n",
    "    img = img.resize((640, 480))\n",
    "    img.save(f\"{RESIZED_BACKGROUNDS}/{os.path.basename(path)}\")"
   ],
   "id": "8e3e149c4e7318cd",
   "outputs": [
    {
     "data": {
      "text/plain": [
       "  0%|          | 0/3076 [00:00<?, ?it/s]"
      ],
      "application/vnd.jupyter.widget-view+json": {
       "version_major": 2,
       "version_minor": 0,
       "model_id": "0c88e1749c8e4adead8072945d8e8966"
      }
     },
     "metadata": {},
     "output_type": "display_data"
    }
   ],
   "execution_count": 15
  }
 ],
 "metadata": {
  "kernelspec": {
   "display_name": "Python 3",
   "language": "python",
   "name": "python3"
  },
  "language_info": {
   "codemirror_mode": {
    "name": "ipython",
    "version": 2
   },
   "file_extension": ".py",
   "mimetype": "text/x-python",
   "name": "python",
   "nbconvert_exporter": "python",
   "pygments_lexer": "ipython2",
   "version": "2.7.6"
  }
 },
 "nbformat": 4,
 "nbformat_minor": 5
}
