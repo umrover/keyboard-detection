{
 "cells": [
  {
   "cell_type": "code",
   "id": "initial_id",
   "metadata": {
    "collapsed": true,
    "ExecuteTime": {
     "end_time": "2024-11-05T14:35:47.597022Z",
     "start_time": "2024-11-05T14:35:43.650432Z"
    }
   },
   "source": [
    "import torch\n",
    "from torchvision.transforms import v2 as transforms\n",
    "\n",
    "import lightning as pl\n",
    "from lightning.pytorch.callbacks.model_summary import summarize\n",
    "from lightning.pytorch.callbacks import ModelCheckpoint\n",
    "\n",
    "from keyrover.datasets import *\n",
    "from keyrover.ml import get_device\n",
    "from keyrover import *"
   ],
   "outputs": [],
   "execution_count": 1
  },
  {
   "metadata": {
    "ExecuteTime": {
     "end_time": "2024-11-05T14:35:47.614129Z",
     "start_time": "2024-11-05T14:35:47.598246Z"
    }
   },
   "cell_type": "code",
   "source": [
    "device = get_device()\n",
    "device"
   ],
   "id": "cd7347c506515e7c",
   "outputs": [
    {
     "data": {
      "text/plain": [
       "'mps'"
      ]
     },
     "execution_count": 2,
     "metadata": {},
     "output_type": "execute_result"
    }
   ],
   "execution_count": 2
  },
  {
   "metadata": {
    "ExecuteTime": {
     "end_time": "2024-11-05T14:35:47.640943Z",
     "start_time": "2024-11-05T14:35:47.614981Z"
    }
   },
   "cell_type": "code",
   "source": [
    "image_paths = get_dataset_paths()\n",
    "len(image_paths)"
   ],
   "id": "9cd6300c5bae031c",
   "outputs": [
    {
     "data": {
      "text/plain": [
       "4999"
      ]
     },
     "execution_count": 3,
     "metadata": {},
     "output_type": "execute_result"
    }
   ],
   "execution_count": 3
  },
  {
   "metadata": {
    "ExecuteTime": {
     "end_time": "2024-11-05T14:35:47.645089Z",
     "start_time": "2024-11-05T14:35:47.642366Z"
    }
   },
   "cell_type": "code",
   "source": [
    "mean, std = get_dataset_norm_params(version=3)\n",
    "mean, std"
   ],
   "id": "7513dabf7fa9d48f",
   "outputs": [
    {
     "data": {
      "text/plain": [
       "(array([0.26772413, 0.28418145, 0.28728417]),\n",
       " array([0.24711585, 0.24890053, 0.25881228]))"
      ]
     },
     "execution_count": 4,
     "metadata": {},
     "output_type": "execute_result"
    }
   ],
   "execution_count": 4
  },
  {
   "metadata": {
    "ExecuteTime": {
     "end_time": "2024-11-05T14:36:13.746151Z",
     "start_time": "2024-11-05T14:35:48.472013Z"
    }
   },
   "cell_type": "code",
   "source": [
    "train_paths, _, valid_paths = split_train_test_valid(image_paths, 1, 0.1)\n",
    "\n",
    "SIZE = (480, 640)\n",
    "\n",
    "train_dataset = KeyboardTexCoordsDataset(train_paths, size=SIZE)\n",
    "valid_dataset = KeyboardTexCoordsDataset(valid_paths, size=SIZE)\n",
    "\n",
    "len(train_dataset), len(valid_dataset)"
   ],
   "id": "9e069f3ae5940def",
   "outputs": [
    {
     "data": {
      "text/plain": [
       "  0%|          | 0/4500 [00:00<?, ?it/s]"
      ],
      "application/vnd.jupyter.widget-view+json": {
       "version_major": 2,
       "version_minor": 0,
       "model_id": "57f0c24b4e9045ba98295a0de500a963"
      }
     },
     "metadata": {},
     "output_type": "display_data"
    },
    {
     "data": {
      "text/plain": [
       "  0%|          | 0/499 [00:00<?, ?it/s]"
      ],
      "application/vnd.jupyter.widget-view+json": {
       "version_major": 2,
       "version_minor": 0,
       "model_id": "65a8514eea0240e3910f5a848fa6575b"
      }
     },
     "metadata": {},
     "output_type": "display_data"
    },
    {
     "data": {
      "text/plain": [
       "(4500, 499)"
      ]
     },
     "execution_count": 5,
     "metadata": {},
     "output_type": "execute_result"
    }
   ],
   "execution_count": 5
  },
  {
   "metadata": {
    "ExecuteTime": {
     "end_time": "2024-11-05T14:36:13.750520Z",
     "start_time": "2024-11-05T14:36:13.747594Z"
    }
   },
   "cell_type": "code",
   "source": [
    "# train_dataset.set_transforms([\n",
    "    #     # transforms.RandomHorizontalFlip(p=0.5),\n",
    "    #     # transforms.RandomVerticalFlip(p=0.5),\n",
    "    #     # transforms.RandomAffine(degrees=30, shear=30, translate=(0.25, 0.25)),\n",
    "    #     # transforms.RandomPerspective(distortion_scale=0.25, p=0.5),\n",
    "    #     # transforms.RandomErasing(p=0.5),\n",
    "# ])\n",
    "\n",
    "train_dataset.set_augmentations([\n",
    "    transforms.ToDtype(torch.float32, scale=True),\n",
    "    transforms.GaussianNoise(sigma=0.01),\n",
    "    transforms.RandomApply([transforms.GaussianNoise(sigma=0.01)], p=0.5),\n",
    "    transforms.Normalize(mean, std),\n",
    "])\n",
    "\n",
    "valid_dataset.set_augmentations([\n",
    "    transforms.ToDtype(torch.float32, scale=True),\n",
    "    transforms.Normalize(mean, std),\n",
    "])"
   ],
   "id": "67281218bd8e9f25",
   "outputs": [],
   "execution_count": 6
  },
  {
   "metadata": {
    "ExecuteTime": {
     "end_time": "2024-11-05T14:37:16.597545Z",
     "start_time": "2024-11-05T14:37:16.553831Z"
    }
   },
   "cell_type": "code",
   "source": [
    "img, mask = train_dataset.random_img()\n",
    "print(mask.min(), mask.max(), mask.dtype, mask.shape)\n",
    "# imshow(img, mask, figsize=(15, 30))"
   ],
   "id": "e9dca388004c2744",
   "outputs": [
    {
     "name": "stdout",
     "output_type": "stream",
     "text": [
      "tensor(0.) tensor(1.) torch.float32 torch.Size([2, 480, 640])\n"
     ]
    }
   ],
   "execution_count": 12
  },
  {
   "metadata": {
    "ExecuteTime": {
     "end_time": "2024-11-05T14:37:17.567040Z",
     "start_time": "2024-11-05T14:37:17.563466Z"
    }
   },
   "cell_type": "code",
   "source": [
    "from torch.utils.data import DataLoader\n",
    "\n",
    "BATCH_SIZE = 32\n",
    "\n",
    "dl_kwargs = {\"batch_size\": BATCH_SIZE, \"num_workers\": 2, \"persistent_workers\": True, \"pin_memory\": False}\n",
    "\n",
    "train_dataloader = DataLoader(train_dataset, **dl_kwargs, shuffle=True)\n",
    "valid_dataloader = DataLoader(valid_dataset, **dl_kwargs)"
   ],
   "id": "78d87a2d7e6e1597",
   "outputs": [],
   "execution_count": 13
  },
  {
   "metadata": {
    "ExecuteTime": {
     "end_time": "2024-11-05T14:37:19.584659Z",
     "start_time": "2024-11-05T14:37:18.961341Z"
    }
   },
   "cell_type": "code",
   "source": [
    "import wandb\n",
    "from lightning.pytorch.loggers import WandbLogger\n",
    "\n",
    "wandb.login()"
   ],
   "id": "d60a86476b2eacdf",
   "outputs": [
    {
     "name": "stderr",
     "output_type": "stream",
     "text": [
      "\u001B[34m\u001B[1mwandb\u001B[0m: Using wandb-core as the SDK backend. Please refer to https://wandb.me/wandb-core for more information.\n",
      "\u001B[34m\u001B[1mwandb\u001B[0m: Currently logged in as: \u001B[33mbhavye-mathur\u001B[0m. Use \u001B[1m`wandb login --relogin`\u001B[0m to force relogin\n"
     ]
    },
    {
     "data": {
      "text/plain": [
       "True"
      ]
     },
     "execution_count": 14,
     "metadata": {},
     "output_type": "execute_result"
    }
   ],
   "execution_count": 14
  },
  {
   "metadata": {
    "ExecuteTime": {
     "end_time": "2024-11-05T14:37:21.994877Z",
     "start_time": "2024-11-05T14:37:21.987941Z"
    }
   },
   "cell_type": "code",
   "source": [
    "from typing import Literal\n",
    "\n",
    "import numpy as np\n",
    "\n",
    "import segmentation_models_pytorch as smp\n",
    "\n",
    "\n",
    "class TexCoordsRegressionModel(pl.LightningModule):\n",
    "    def __init__(self,\n",
    "                 arch: Literal[\"unet\", \"unetplusplus\"],\n",
    "                 encoder_name: str,\n",
    "                 in_channels: int, out_classes: int, lr: float,\n",
    "                 **kwargs) -> None:\n",
    "        super().__init__()\n",
    "\n",
    "        self.model = smp.create_model(arch, encoder_name, in_channels=in_channels, classes=out_classes, **kwargs)\n",
    "        self.loss_fn = torch.nn.MSELoss()\n",
    "\n",
    "        self.learning_rate = lr\n",
    "        self.lr = self.learning_rate\n",
    "        self.save_hyperparameters()\n",
    "\n",
    "    def forward(self, image: torch.Tensor) -> torch.Tensor:\n",
    "        return self.model(image)\n",
    "\n",
    "    def predict(self, image: torch.Tensor) -> np.ndarray:\n",
    "        image = image.to(self.device)\n",
    "        if len(image.shape) == 3:\n",
    "            image = image.unsqueeze(0)\n",
    "\n",
    "        with torch.no_grad():\n",
    "            pred = self(image).cpu().numpy()\n",
    "\n",
    "        if len(pred) == 1:\n",
    "            return pred[0, 0]\n",
    "        return pred[:, 0]\n",
    "\n",
    "    def _step(self, batch: tuple[torch.Tensor, torch.Tensor], stage: str) -> float:\n",
    "        if trainer.global_step == 0:\n",
    "            wandb.define_metric(f\"val_loss\", summary=\"min\")\n",
    "\n",
    "        image, truth = batch\n",
    "        prediction = self.forward(image)\n",
    "\n",
    "        loss = self.loss_fn(prediction, truth)\n",
    "        self.log(f\"{stage}_loss\", loss)\n",
    "        return loss\n",
    "\n",
    "    def training_step(self, batch: tuple[torch.Tensor, torch.Tensor], batch_idx: int) -> float:\n",
    "        return self._step(batch, \"train\")\n",
    "\n",
    "    def validation_step(self, batch: tuple[torch.Tensor, torch.Tensor], batch_idx: int) -> float:\n",
    "        return self._step(batch, \"val\")\n",
    "\n",
    "    def test_step(self, batch: tuple[torch.Tensor, torch.Tensor], batch_idx: int) -> float:\n",
    "        return self._step(batch, \"test\")\n",
    "\n",
    "    def configure_optimizers(self) -> dict:\n",
    "        optimizer = torch.optim.AdamW(self.parameters(), lr=(self.lr or self.learning_rate))\n",
    "        return {\"optimizer\": optimizer}"
   ],
   "id": "81d90acdac9ef9fd",
   "outputs": [],
   "execution_count": 15
  },
  {
   "metadata": {
    "ExecuteTime": {
     "end_time": "2024-11-05T14:44:56.523318Z",
     "start_time": "2024-11-05T14:44:54.421079Z"
    }
   },
   "cell_type": "code",
   "source": [
    "ARCH = \"unet\"\n",
    "BACKBONE = \"timm-regnetx_002\"\n",
    "\n",
    "LEARNING_RATE = 2e-3\n",
    "\n",
    "wandb.finish()\n",
    "model = TexCoordsRegressionModel(ARCH, BACKBONE, in_channels=3, out_classes=2, encoder_weights=\"imagenet\",\n",
    "                                 lr=LEARNING_RATE)\n",
    "model"
   ],
   "id": "63834b1090f7d264",
   "outputs": [
    {
     "data": {
      "text/plain": [
       "<IPython.core.display.HTML object>"
      ],
      "text/html": [
       "<style>\n",
       "    table.wandb td:nth-child(1) { padding: 0 10px; text-align: left ; width: auto;} td:nth-child(2) {text-align: left ; width: 100%}\n",
       "    .wandb-row { display: flex; flex-direction: row; flex-wrap: wrap; justify-content: flex-start; width: 100% }\n",
       "    .wandb-col { display: flex; flex-direction: column; flex-basis: 100%; flex: 1; padding: 10px; }\n",
       "    </style>\n",
       "<div class=\"wandb-row\"><div class=\"wandb-col\"><h3>Run history:</h3><br/><table class=\"wandb\"><tr><td>epoch</td><td>▁▁▁▁▁▁▁▁▁▁▁▁▁▁▁▁▁▁▁▁▁▁▁▁▁▁▁▁▁▁▁▁▁▁▁▁▁▁██</td></tr><tr><td>train_loss</td><td>█▅▄▃▂▂▂▂▂▂▂▂▁▁▁▁▁▁▁▁▁▁▁▁▁▁▁▁▁▁▁▁▁▁▁▁▁▁▁▁</td></tr><tr><td>trainer/global_step</td><td>▁▁▁▂▂▂▂▃▃▃▃▃▃▄▄▄▄▄▄▅▅▅▅▆▆▆▆▆▇▇▇▇▇▇▇█████</td></tr><tr><td>val_loss</td><td>▁</td></tr></table><br/></div><div class=\"wandb-col\"><h3>Run summary:</h3><br/><table class=\"wandb\"><tr><td>epoch</td><td>1</td></tr><tr><td>train_loss</td><td>0.02716</td></tr><tr><td>trainer/global_step</td><td>145</td></tr></table><br/></div></div>"
      ]
     },
     "metadata": {},
     "output_type": "display_data"
    },
    {
     "data": {
      "text/plain": [
       "<IPython.core.display.HTML object>"
      ],
      "text/html": [
       " View run <strong style=\"color:#cdcd00\">eternal-plant-7</strong> at: <a href='https://wandb.ai/bhavye-mathur/mrover-keyboard-texcoords-segmentation/runs/2f6kuis1' target=\"_blank\">https://wandb.ai/bhavye-mathur/mrover-keyboard-texcoords-segmentation/runs/2f6kuis1</a><br/> View project at: <a href='https://wandb.ai/bhavye-mathur/mrover-keyboard-texcoords-segmentation' target=\"_blank\">https://wandb.ai/bhavye-mathur/mrover-keyboard-texcoords-segmentation</a><br/>Synced 5 W&B file(s), 0 media file(s), 0 artifact file(s) and 0 other file(s)"
      ]
     },
     "metadata": {},
     "output_type": "display_data"
    },
    {
     "data": {
      "text/plain": [
       "<IPython.core.display.HTML object>"
      ],
      "text/html": [
       "Find logs at: <code>./wandb/run-20241105_093728-2f6kuis1/logs</code>"
      ]
     },
     "metadata": {},
     "output_type": "display_data"
    },
    {
     "data": {
      "text/plain": [
       "TexCoordsRegressionModel(\n",
       "  (model): Unet(\n",
       "    (encoder): RegNetEncoder(\n",
       "      (stem): ConvNormAct(\n",
       "        (conv): Conv2d(3, 32, kernel_size=(3, 3), stride=(2, 2), padding=(1, 1), bias=False)\n",
       "        (bn): BatchNormAct2d(\n",
       "          32, eps=1e-05, momentum=0.1, affine=True, track_running_stats=True\n",
       "          (drop): Identity()\n",
       "          (act): ReLU(inplace=True)\n",
       "        )\n",
       "      )\n",
       "      (s1): RegStage(\n",
       "        (b1): Bottleneck(\n",
       "          (conv1): ConvNormAct(\n",
       "            (conv): Conv2d(32, 24, kernel_size=(1, 1), stride=(1, 1), bias=False)\n",
       "            (bn): BatchNormAct2d(\n",
       "              24, eps=1e-05, momentum=0.1, affine=True, track_running_stats=True\n",
       "              (drop): Identity()\n",
       "              (act): ReLU(inplace=True)\n",
       "            )\n",
       "          )\n",
       "          (conv2): ConvNormAct(\n",
       "            (conv): Conv2d(24, 24, kernel_size=(3, 3), stride=(2, 2), padding=(1, 1), groups=3, bias=False)\n",
       "            (bn): BatchNormAct2d(\n",
       "              24, eps=1e-05, momentum=0.1, affine=True, track_running_stats=True\n",
       "              (drop): Identity()\n",
       "              (act): ReLU(inplace=True)\n",
       "            )\n",
       "          )\n",
       "          (se): Identity()\n",
       "          (conv3): ConvNormAct(\n",
       "            (conv): Conv2d(24, 24, kernel_size=(1, 1), stride=(1, 1), bias=False)\n",
       "            (bn): BatchNormAct2d(\n",
       "              24, eps=1e-05, momentum=0.1, affine=True, track_running_stats=True\n",
       "              (drop): Identity()\n",
       "              (act): Identity()\n",
       "            )\n",
       "          )\n",
       "          (act3): ReLU()\n",
       "          (downsample): ConvNormAct(\n",
       "            (conv): Conv2d(32, 24, kernel_size=(1, 1), stride=(2, 2), bias=False)\n",
       "            (bn): BatchNormAct2d(\n",
       "              24, eps=1e-05, momentum=0.1, affine=True, track_running_stats=True\n",
       "              (drop): Identity()\n",
       "              (act): Identity()\n",
       "            )\n",
       "          )\n",
       "          (drop_path): Identity()\n",
       "        )\n",
       "      )\n",
       "      (s2): RegStage(\n",
       "        (b1): Bottleneck(\n",
       "          (conv1): ConvNormAct(\n",
       "            (conv): Conv2d(24, 56, kernel_size=(1, 1), stride=(1, 1), bias=False)\n",
       "            (bn): BatchNormAct2d(\n",
       "              56, eps=1e-05, momentum=0.1, affine=True, track_running_stats=True\n",
       "              (drop): Identity()\n",
       "              (act): ReLU(inplace=True)\n",
       "            )\n",
       "          )\n",
       "          (conv2): ConvNormAct(\n",
       "            (conv): Conv2d(56, 56, kernel_size=(3, 3), stride=(2, 2), padding=(1, 1), groups=7, bias=False)\n",
       "            (bn): BatchNormAct2d(\n",
       "              56, eps=1e-05, momentum=0.1, affine=True, track_running_stats=True\n",
       "              (drop): Identity()\n",
       "              (act): ReLU(inplace=True)\n",
       "            )\n",
       "          )\n",
       "          (se): Identity()\n",
       "          (conv3): ConvNormAct(\n",
       "            (conv): Conv2d(56, 56, kernel_size=(1, 1), stride=(1, 1), bias=False)\n",
       "            (bn): BatchNormAct2d(\n",
       "              56, eps=1e-05, momentum=0.1, affine=True, track_running_stats=True\n",
       "              (drop): Identity()\n",
       "              (act): Identity()\n",
       "            )\n",
       "          )\n",
       "          (act3): ReLU()\n",
       "          (downsample): ConvNormAct(\n",
       "            (conv): Conv2d(24, 56, kernel_size=(1, 1), stride=(2, 2), bias=False)\n",
       "            (bn): BatchNormAct2d(\n",
       "              56, eps=1e-05, momentum=0.1, affine=True, track_running_stats=True\n",
       "              (drop): Identity()\n",
       "              (act): Identity()\n",
       "            )\n",
       "          )\n",
       "          (drop_path): Identity()\n",
       "        )\n",
       "      )\n",
       "      (s3): RegStage(\n",
       "        (b1): Bottleneck(\n",
       "          (conv1): ConvNormAct(\n",
       "            (conv): Conv2d(56, 152, kernel_size=(1, 1), stride=(1, 1), bias=False)\n",
       "            (bn): BatchNormAct2d(\n",
       "              152, eps=1e-05, momentum=0.1, affine=True, track_running_stats=True\n",
       "              (drop): Identity()\n",
       "              (act): ReLU(inplace=True)\n",
       "            )\n",
       "          )\n",
       "          (conv2): ConvNormAct(\n",
       "            (conv): Conv2d(152, 152, kernel_size=(3, 3), stride=(2, 2), padding=(1, 1), groups=19, bias=False)\n",
       "            (bn): BatchNormAct2d(\n",
       "              152, eps=1e-05, momentum=0.1, affine=True, track_running_stats=True\n",
       "              (drop): Identity()\n",
       "              (act): ReLU(inplace=True)\n",
       "            )\n",
       "          )\n",
       "          (se): Identity()\n",
       "          (conv3): ConvNormAct(\n",
       "            (conv): Conv2d(152, 152, kernel_size=(1, 1), stride=(1, 1), bias=False)\n",
       "            (bn): BatchNormAct2d(\n",
       "              152, eps=1e-05, momentum=0.1, affine=True, track_running_stats=True\n",
       "              (drop): Identity()\n",
       "              (act): Identity()\n",
       "            )\n",
       "          )\n",
       "          (act3): ReLU()\n",
       "          (downsample): ConvNormAct(\n",
       "            (conv): Conv2d(56, 152, kernel_size=(1, 1), stride=(2, 2), bias=False)\n",
       "            (bn): BatchNormAct2d(\n",
       "              152, eps=1e-05, momentum=0.1, affine=True, track_running_stats=True\n",
       "              (drop): Identity()\n",
       "              (act): Identity()\n",
       "            )\n",
       "          )\n",
       "          (drop_path): Identity()\n",
       "        )\n",
       "        (b2): Bottleneck(\n",
       "          (conv1): ConvNormAct(\n",
       "            (conv): Conv2d(152, 152, kernel_size=(1, 1), stride=(1, 1), bias=False)\n",
       "            (bn): BatchNormAct2d(\n",
       "              152, eps=1e-05, momentum=0.1, affine=True, track_running_stats=True\n",
       "              (drop): Identity()\n",
       "              (act): ReLU(inplace=True)\n",
       "            )\n",
       "          )\n",
       "          (conv2): ConvNormAct(\n",
       "            (conv): Conv2d(152, 152, kernel_size=(3, 3), stride=(1, 1), padding=(1, 1), groups=19, bias=False)\n",
       "            (bn): BatchNormAct2d(\n",
       "              152, eps=1e-05, momentum=0.1, affine=True, track_running_stats=True\n",
       "              (drop): Identity()\n",
       "              (act): ReLU(inplace=True)\n",
       "            )\n",
       "          )\n",
       "          (se): Identity()\n",
       "          (conv3): ConvNormAct(\n",
       "            (conv): Conv2d(152, 152, kernel_size=(1, 1), stride=(1, 1), bias=False)\n",
       "            (bn): BatchNormAct2d(\n",
       "              152, eps=1e-05, momentum=0.1, affine=True, track_running_stats=True\n",
       "              (drop): Identity()\n",
       "              (act): Identity()\n",
       "            )\n",
       "          )\n",
       "          (act3): ReLU()\n",
       "          (downsample): Identity()\n",
       "          (drop_path): Identity()\n",
       "        )\n",
       "        (b3): Bottleneck(\n",
       "          (conv1): ConvNormAct(\n",
       "            (conv): Conv2d(152, 152, kernel_size=(1, 1), stride=(1, 1), bias=False)\n",
       "            (bn): BatchNormAct2d(\n",
       "              152, eps=1e-05, momentum=0.1, affine=True, track_running_stats=True\n",
       "              (drop): Identity()\n",
       "              (act): ReLU(inplace=True)\n",
       "            )\n",
       "          )\n",
       "          (conv2): ConvNormAct(\n",
       "            (conv): Conv2d(152, 152, kernel_size=(3, 3), stride=(1, 1), padding=(1, 1), groups=19, bias=False)\n",
       "            (bn): BatchNormAct2d(\n",
       "              152, eps=1e-05, momentum=0.1, affine=True, track_running_stats=True\n",
       "              (drop): Identity()\n",
       "              (act): ReLU(inplace=True)\n",
       "            )\n",
       "          )\n",
       "          (se): Identity()\n",
       "          (conv3): ConvNormAct(\n",
       "            (conv): Conv2d(152, 152, kernel_size=(1, 1), stride=(1, 1), bias=False)\n",
       "            (bn): BatchNormAct2d(\n",
       "              152, eps=1e-05, momentum=0.1, affine=True, track_running_stats=True\n",
       "              (drop): Identity()\n",
       "              (act): Identity()\n",
       "            )\n",
       "          )\n",
       "          (act3): ReLU()\n",
       "          (downsample): Identity()\n",
       "          (drop_path): Identity()\n",
       "        )\n",
       "        (b4): Bottleneck(\n",
       "          (conv1): ConvNormAct(\n",
       "            (conv): Conv2d(152, 152, kernel_size=(1, 1), stride=(1, 1), bias=False)\n",
       "            (bn): BatchNormAct2d(\n",
       "              152, eps=1e-05, momentum=0.1, affine=True, track_running_stats=True\n",
       "              (drop): Identity()\n",
       "              (act): ReLU(inplace=True)\n",
       "            )\n",
       "          )\n",
       "          (conv2): ConvNormAct(\n",
       "            (conv): Conv2d(152, 152, kernel_size=(3, 3), stride=(1, 1), padding=(1, 1), groups=19, bias=False)\n",
       "            (bn): BatchNormAct2d(\n",
       "              152, eps=1e-05, momentum=0.1, affine=True, track_running_stats=True\n",
       "              (drop): Identity()\n",
       "              (act): ReLU(inplace=True)\n",
       "            )\n",
       "          )\n",
       "          (se): Identity()\n",
       "          (conv3): ConvNormAct(\n",
       "            (conv): Conv2d(152, 152, kernel_size=(1, 1), stride=(1, 1), bias=False)\n",
       "            (bn): BatchNormAct2d(\n",
       "              152, eps=1e-05, momentum=0.1, affine=True, track_running_stats=True\n",
       "              (drop): Identity()\n",
       "              (act): Identity()\n",
       "            )\n",
       "          )\n",
       "          (act3): ReLU()\n",
       "          (downsample): Identity()\n",
       "          (drop_path): Identity()\n",
       "        )\n",
       "      )\n",
       "      (s4): RegStage(\n",
       "        (b1): Bottleneck(\n",
       "          (conv1): ConvNormAct(\n",
       "            (conv): Conv2d(152, 368, kernel_size=(1, 1), stride=(1, 1), bias=False)\n",
       "            (bn): BatchNormAct2d(\n",
       "              368, eps=1e-05, momentum=0.1, affine=True, track_running_stats=True\n",
       "              (drop): Identity()\n",
       "              (act): ReLU(inplace=True)\n",
       "            )\n",
       "          )\n",
       "          (conv2): ConvNormAct(\n",
       "            (conv): Conv2d(368, 368, kernel_size=(3, 3), stride=(2, 2), padding=(1, 1), groups=46, bias=False)\n",
       "            (bn): BatchNormAct2d(\n",
       "              368, eps=1e-05, momentum=0.1, affine=True, track_running_stats=True\n",
       "              (drop): Identity()\n",
       "              (act): ReLU(inplace=True)\n",
       "            )\n",
       "          )\n",
       "          (se): Identity()\n",
       "          (conv3): ConvNormAct(\n",
       "            (conv): Conv2d(368, 368, kernel_size=(1, 1), stride=(1, 1), bias=False)\n",
       "            (bn): BatchNormAct2d(\n",
       "              368, eps=1e-05, momentum=0.1, affine=True, track_running_stats=True\n",
       "              (drop): Identity()\n",
       "              (act): Identity()\n",
       "            )\n",
       "          )\n",
       "          (act3): ReLU()\n",
       "          (downsample): ConvNormAct(\n",
       "            (conv): Conv2d(152, 368, kernel_size=(1, 1), stride=(2, 2), bias=False)\n",
       "            (bn): BatchNormAct2d(\n",
       "              368, eps=1e-05, momentum=0.1, affine=True, track_running_stats=True\n",
       "              (drop): Identity()\n",
       "              (act): Identity()\n",
       "            )\n",
       "          )\n",
       "          (drop_path): Identity()\n",
       "        )\n",
       "        (b2): Bottleneck(\n",
       "          (conv1): ConvNormAct(\n",
       "            (conv): Conv2d(368, 368, kernel_size=(1, 1), stride=(1, 1), bias=False)\n",
       "            (bn): BatchNormAct2d(\n",
       "              368, eps=1e-05, momentum=0.1, affine=True, track_running_stats=True\n",
       "              (drop): Identity()\n",
       "              (act): ReLU(inplace=True)\n",
       "            )\n",
       "          )\n",
       "          (conv2): ConvNormAct(\n",
       "            (conv): Conv2d(368, 368, kernel_size=(3, 3), stride=(1, 1), padding=(1, 1), groups=46, bias=False)\n",
       "            (bn): BatchNormAct2d(\n",
       "              368, eps=1e-05, momentum=0.1, affine=True, track_running_stats=True\n",
       "              (drop): Identity()\n",
       "              (act): ReLU(inplace=True)\n",
       "            )\n",
       "          )\n",
       "          (se): Identity()\n",
       "          (conv3): ConvNormAct(\n",
       "            (conv): Conv2d(368, 368, kernel_size=(1, 1), stride=(1, 1), bias=False)\n",
       "            (bn): BatchNormAct2d(\n",
       "              368, eps=1e-05, momentum=0.1, affine=True, track_running_stats=True\n",
       "              (drop): Identity()\n",
       "              (act): Identity()\n",
       "            )\n",
       "          )\n",
       "          (act3): ReLU()\n",
       "          (downsample): Identity()\n",
       "          (drop_path): Identity()\n",
       "        )\n",
       "        (b3): Bottleneck(\n",
       "          (conv1): ConvNormAct(\n",
       "            (conv): Conv2d(368, 368, kernel_size=(1, 1), stride=(1, 1), bias=False)\n",
       "            (bn): BatchNormAct2d(\n",
       "              368, eps=1e-05, momentum=0.1, affine=True, track_running_stats=True\n",
       "              (drop): Identity()\n",
       "              (act): ReLU(inplace=True)\n",
       "            )\n",
       "          )\n",
       "          (conv2): ConvNormAct(\n",
       "            (conv): Conv2d(368, 368, kernel_size=(3, 3), stride=(1, 1), padding=(1, 1), groups=46, bias=False)\n",
       "            (bn): BatchNormAct2d(\n",
       "              368, eps=1e-05, momentum=0.1, affine=True, track_running_stats=True\n",
       "              (drop): Identity()\n",
       "              (act): ReLU(inplace=True)\n",
       "            )\n",
       "          )\n",
       "          (se): Identity()\n",
       "          (conv3): ConvNormAct(\n",
       "            (conv): Conv2d(368, 368, kernel_size=(1, 1), stride=(1, 1), bias=False)\n",
       "            (bn): BatchNormAct2d(\n",
       "              368, eps=1e-05, momentum=0.1, affine=True, track_running_stats=True\n",
       "              (drop): Identity()\n",
       "              (act): Identity()\n",
       "            )\n",
       "          )\n",
       "          (act3): ReLU()\n",
       "          (downsample): Identity()\n",
       "          (drop_path): Identity()\n",
       "        )\n",
       "        (b4): Bottleneck(\n",
       "          (conv1): ConvNormAct(\n",
       "            (conv): Conv2d(368, 368, kernel_size=(1, 1), stride=(1, 1), bias=False)\n",
       "            (bn): BatchNormAct2d(\n",
       "              368, eps=1e-05, momentum=0.1, affine=True, track_running_stats=True\n",
       "              (drop): Identity()\n",
       "              (act): ReLU(inplace=True)\n",
       "            )\n",
       "          )\n",
       "          (conv2): ConvNormAct(\n",
       "            (conv): Conv2d(368, 368, kernel_size=(3, 3), stride=(1, 1), padding=(1, 1), groups=46, bias=False)\n",
       "            (bn): BatchNormAct2d(\n",
       "              368, eps=1e-05, momentum=0.1, affine=True, track_running_stats=True\n",
       "              (drop): Identity()\n",
       "              (act): ReLU(inplace=True)\n",
       "            )\n",
       "          )\n",
       "          (se): Identity()\n",
       "          (conv3): ConvNormAct(\n",
       "            (conv): Conv2d(368, 368, kernel_size=(1, 1), stride=(1, 1), bias=False)\n",
       "            (bn): BatchNormAct2d(\n",
       "              368, eps=1e-05, momentum=0.1, affine=True, track_running_stats=True\n",
       "              (drop): Identity()\n",
       "              (act): Identity()\n",
       "            )\n",
       "          )\n",
       "          (act3): ReLU()\n",
       "          (downsample): Identity()\n",
       "          (drop_path): Identity()\n",
       "        )\n",
       "        (b5): Bottleneck(\n",
       "          (conv1): ConvNormAct(\n",
       "            (conv): Conv2d(368, 368, kernel_size=(1, 1), stride=(1, 1), bias=False)\n",
       "            (bn): BatchNormAct2d(\n",
       "              368, eps=1e-05, momentum=0.1, affine=True, track_running_stats=True\n",
       "              (drop): Identity()\n",
       "              (act): ReLU(inplace=True)\n",
       "            )\n",
       "          )\n",
       "          (conv2): ConvNormAct(\n",
       "            (conv): Conv2d(368, 368, kernel_size=(3, 3), stride=(1, 1), padding=(1, 1), groups=46, bias=False)\n",
       "            (bn): BatchNormAct2d(\n",
       "              368, eps=1e-05, momentum=0.1, affine=True, track_running_stats=True\n",
       "              (drop): Identity()\n",
       "              (act): ReLU(inplace=True)\n",
       "            )\n",
       "          )\n",
       "          (se): Identity()\n",
       "          (conv3): ConvNormAct(\n",
       "            (conv): Conv2d(368, 368, kernel_size=(1, 1), stride=(1, 1), bias=False)\n",
       "            (bn): BatchNormAct2d(\n",
       "              368, eps=1e-05, momentum=0.1, affine=True, track_running_stats=True\n",
       "              (drop): Identity()\n",
       "              (act): Identity()\n",
       "            )\n",
       "          )\n",
       "          (act3): ReLU()\n",
       "          (downsample): Identity()\n",
       "          (drop_path): Identity()\n",
       "        )\n",
       "        (b6): Bottleneck(\n",
       "          (conv1): ConvNormAct(\n",
       "            (conv): Conv2d(368, 368, kernel_size=(1, 1), stride=(1, 1), bias=False)\n",
       "            (bn): BatchNormAct2d(\n",
       "              368, eps=1e-05, momentum=0.1, affine=True, track_running_stats=True\n",
       "              (drop): Identity()\n",
       "              (act): ReLU(inplace=True)\n",
       "            )\n",
       "          )\n",
       "          (conv2): ConvNormAct(\n",
       "            (conv): Conv2d(368, 368, kernel_size=(3, 3), stride=(1, 1), padding=(1, 1), groups=46, bias=False)\n",
       "            (bn): BatchNormAct2d(\n",
       "              368, eps=1e-05, momentum=0.1, affine=True, track_running_stats=True\n",
       "              (drop): Identity()\n",
       "              (act): ReLU(inplace=True)\n",
       "            )\n",
       "          )\n",
       "          (se): Identity()\n",
       "          (conv3): ConvNormAct(\n",
       "            (conv): Conv2d(368, 368, kernel_size=(1, 1), stride=(1, 1), bias=False)\n",
       "            (bn): BatchNormAct2d(\n",
       "              368, eps=1e-05, momentum=0.1, affine=True, track_running_stats=True\n",
       "              (drop): Identity()\n",
       "              (act): Identity()\n",
       "            )\n",
       "          )\n",
       "          (act3): ReLU()\n",
       "          (downsample): Identity()\n",
       "          (drop_path): Identity()\n",
       "        )\n",
       "        (b7): Bottleneck(\n",
       "          (conv1): ConvNormAct(\n",
       "            (conv): Conv2d(368, 368, kernel_size=(1, 1), stride=(1, 1), bias=False)\n",
       "            (bn): BatchNormAct2d(\n",
       "              368, eps=1e-05, momentum=0.1, affine=True, track_running_stats=True\n",
       "              (drop): Identity()\n",
       "              (act): ReLU(inplace=True)\n",
       "            )\n",
       "          )\n",
       "          (conv2): ConvNormAct(\n",
       "            (conv): Conv2d(368, 368, kernel_size=(3, 3), stride=(1, 1), padding=(1, 1), groups=46, bias=False)\n",
       "            (bn): BatchNormAct2d(\n",
       "              368, eps=1e-05, momentum=0.1, affine=True, track_running_stats=True\n",
       "              (drop): Identity()\n",
       "              (act): ReLU(inplace=True)\n",
       "            )\n",
       "          )\n",
       "          (se): Identity()\n",
       "          (conv3): ConvNormAct(\n",
       "            (conv): Conv2d(368, 368, kernel_size=(1, 1), stride=(1, 1), bias=False)\n",
       "            (bn): BatchNormAct2d(\n",
       "              368, eps=1e-05, momentum=0.1, affine=True, track_running_stats=True\n",
       "              (drop): Identity()\n",
       "              (act): Identity()\n",
       "            )\n",
       "          )\n",
       "          (act3): ReLU()\n",
       "          (downsample): Identity()\n",
       "          (drop_path): Identity()\n",
       "        )\n",
       "      )\n",
       "      (final_conv): Identity()\n",
       "    )\n",
       "    (decoder): UnetDecoder(\n",
       "      (center): Identity()\n",
       "      (blocks): ModuleList(\n",
       "        (0): DecoderBlock(\n",
       "          (conv1): Conv2dReLU(\n",
       "            (0): Conv2d(520, 256, kernel_size=(3, 3), stride=(1, 1), padding=(1, 1), bias=False)\n",
       "            (1): BatchNorm2d(256, eps=1e-05, momentum=0.1, affine=True, track_running_stats=True)\n",
       "            (2): ReLU(inplace=True)\n",
       "          )\n",
       "          (attention1): Attention(\n",
       "            (attention): Identity()\n",
       "          )\n",
       "          (conv2): Conv2dReLU(\n",
       "            (0): Conv2d(256, 256, kernel_size=(3, 3), stride=(1, 1), padding=(1, 1), bias=False)\n",
       "            (1): BatchNorm2d(256, eps=1e-05, momentum=0.1, affine=True, track_running_stats=True)\n",
       "            (2): ReLU(inplace=True)\n",
       "          )\n",
       "          (attention2): Attention(\n",
       "            (attention): Identity()\n",
       "          )\n",
       "        )\n",
       "        (1): DecoderBlock(\n",
       "          (conv1): Conv2dReLU(\n",
       "            (0): Conv2d(312, 128, kernel_size=(3, 3), stride=(1, 1), padding=(1, 1), bias=False)\n",
       "            (1): BatchNorm2d(128, eps=1e-05, momentum=0.1, affine=True, track_running_stats=True)\n",
       "            (2): ReLU(inplace=True)\n",
       "          )\n",
       "          (attention1): Attention(\n",
       "            (attention): Identity()\n",
       "          )\n",
       "          (conv2): Conv2dReLU(\n",
       "            (0): Conv2d(128, 128, kernel_size=(3, 3), stride=(1, 1), padding=(1, 1), bias=False)\n",
       "            (1): BatchNorm2d(128, eps=1e-05, momentum=0.1, affine=True, track_running_stats=True)\n",
       "            (2): ReLU(inplace=True)\n",
       "          )\n",
       "          (attention2): Attention(\n",
       "            (attention): Identity()\n",
       "          )\n",
       "        )\n",
       "        (2): DecoderBlock(\n",
       "          (conv1): Conv2dReLU(\n",
       "            (0): Conv2d(152, 64, kernel_size=(3, 3), stride=(1, 1), padding=(1, 1), bias=False)\n",
       "            (1): BatchNorm2d(64, eps=1e-05, momentum=0.1, affine=True, track_running_stats=True)\n",
       "            (2): ReLU(inplace=True)\n",
       "          )\n",
       "          (attention1): Attention(\n",
       "            (attention): Identity()\n",
       "          )\n",
       "          (conv2): Conv2dReLU(\n",
       "            (0): Conv2d(64, 64, kernel_size=(3, 3), stride=(1, 1), padding=(1, 1), bias=False)\n",
       "            (1): BatchNorm2d(64, eps=1e-05, momentum=0.1, affine=True, track_running_stats=True)\n",
       "            (2): ReLU(inplace=True)\n",
       "          )\n",
       "          (attention2): Attention(\n",
       "            (attention): Identity()\n",
       "          )\n",
       "        )\n",
       "        (3): DecoderBlock(\n",
       "          (conv1): Conv2dReLU(\n",
       "            (0): Conv2d(96, 32, kernel_size=(3, 3), stride=(1, 1), padding=(1, 1), bias=False)\n",
       "            (1): BatchNorm2d(32, eps=1e-05, momentum=0.1, affine=True, track_running_stats=True)\n",
       "            (2): ReLU(inplace=True)\n",
       "          )\n",
       "          (attention1): Attention(\n",
       "            (attention): Identity()\n",
       "          )\n",
       "          (conv2): Conv2dReLU(\n",
       "            (0): Conv2d(32, 32, kernel_size=(3, 3), stride=(1, 1), padding=(1, 1), bias=False)\n",
       "            (1): BatchNorm2d(32, eps=1e-05, momentum=0.1, affine=True, track_running_stats=True)\n",
       "            (2): ReLU(inplace=True)\n",
       "          )\n",
       "          (attention2): Attention(\n",
       "            (attention): Identity()\n",
       "          )\n",
       "        )\n",
       "        (4): DecoderBlock(\n",
       "          (conv1): Conv2dReLU(\n",
       "            (0): Conv2d(32, 16, kernel_size=(3, 3), stride=(1, 1), padding=(1, 1), bias=False)\n",
       "            (1): BatchNorm2d(16, eps=1e-05, momentum=0.1, affine=True, track_running_stats=True)\n",
       "            (2): ReLU(inplace=True)\n",
       "          )\n",
       "          (attention1): Attention(\n",
       "            (attention): Identity()\n",
       "          )\n",
       "          (conv2): Conv2dReLU(\n",
       "            (0): Conv2d(16, 16, kernel_size=(3, 3), stride=(1, 1), padding=(1, 1), bias=False)\n",
       "            (1): BatchNorm2d(16, eps=1e-05, momentum=0.1, affine=True, track_running_stats=True)\n",
       "            (2): ReLU(inplace=True)\n",
       "          )\n",
       "          (attention2): Attention(\n",
       "            (attention): Identity()\n",
       "          )\n",
       "        )\n",
       "      )\n",
       "    )\n",
       "    (segmentation_head): SegmentationHead(\n",
       "      (0): Conv2d(16, 2, kernel_size=(3, 3), stride=(1, 1), padding=(1, 1))\n",
       "      (1): Identity()\n",
       "      (2): Activation(\n",
       "        (activation): Identity()\n",
       "      )\n",
       "    )\n",
       "  )\n",
       "  (loss_fn): MSELoss()\n",
       ")"
      ]
     },
     "execution_count": 24,
     "metadata": {},
     "output_type": "execute_result"
    }
   ],
   "execution_count": 24
  },
  {
   "metadata": {
    "ExecuteTime": {
     "end_time": "2024-11-05T14:44:56.847117Z",
     "start_time": "2024-11-05T14:44:56.841214Z"
    }
   },
   "cell_type": "code",
   "source": "summarize(model)",
   "id": "63ca96d7534d7e9e",
   "outputs": [
    {
     "data": {
      "text/plain": [
       "  | Name    | Type    | Params | Mode \n",
       "--------------------------------------------\n",
       "0 | model   | Unet    | 4.8 M  | train\n",
       "1 | loss_fn | MSELoss | 0      | train\n",
       "--------------------------------------------\n",
       "4.8 M     Trainable params\n",
       "0         Non-trainable params\n",
       "4.8 M     Total params\n",
       "19.124    Total estimated model params size (MB)\n",
       "362       Modules in train mode\n",
       "0         Modules in eval mode"
      ]
     },
     "execution_count": 25,
     "metadata": {},
     "output_type": "execute_result"
    }
   ],
   "execution_count": 25
  },
  {
   "metadata": {
    "jupyter": {
     "is_executing": true
    },
    "ExecuteTime": {
     "start_time": "2024-11-05T14:45:00.101465Z"
    }
   },
   "cell_type": "code",
   "source": [
    "EPOCHS = 1\n",
    "\n",
    "logger = WandbLogger(project=\"mrover-keyboard-texcoords-segmentation\")\n",
    "\n",
    "checkpoint_callback = ModelCheckpoint(monitor=\"val_loss\", mode=\"min\")\n",
    "\n",
    "trainer = pl.Trainer(log_every_n_steps=1, logger=logger, max_time=\"00:08:00:00\", callbacks=[checkpoint_callback])\n",
    "trainer.fit(model, train_dataloaders=train_dataloader, val_dataloaders=valid_dataloader)"
   ],
   "id": "cf225cd16d959e47",
   "outputs": [
    {
     "name": "stderr",
     "output_type": "stream",
     "text": [
      "GPU available: True (mps), used: True\n",
      "TPU available: False, using: 0 TPU cores\n",
      "HPU available: False, using: 0 HPUs\n"
     ]
    },
    {
     "data": {
      "text/plain": [
       "<IPython.core.display.HTML object>"
      ],
      "text/html": [
       "Tracking run with wandb version 0.18.5"
      ]
     },
     "metadata": {},
     "output_type": "display_data"
    },
    {
     "data": {
      "text/plain": [
       "<IPython.core.display.HTML object>"
      ],
      "text/html": [
       "Run data is saved locally in <code>./wandb/run-20241105_094500-2iyaf387</code>"
      ]
     },
     "metadata": {},
     "output_type": "display_data"
    },
    {
     "data": {
      "text/plain": [
       "<IPython.core.display.HTML object>"
      ],
      "text/html": [
       "Syncing run <strong><a href='https://wandb.ai/bhavye-mathur/mrover-keyboard-texcoords-segmentation/runs/2iyaf387' target=\"_blank\">vague-tree-8</a></strong> to <a href='https://wandb.ai/bhavye-mathur/mrover-keyboard-texcoords-segmentation' target=\"_blank\">Weights & Biases</a> (<a href='https://wandb.me/run' target=\"_blank\">docs</a>)<br/>"
      ]
     },
     "metadata": {},
     "output_type": "display_data"
    },
    {
     "data": {
      "text/plain": [
       "<IPython.core.display.HTML object>"
      ],
      "text/html": [
       " View project at <a href='https://wandb.ai/bhavye-mathur/mrover-keyboard-texcoords-segmentation' target=\"_blank\">https://wandb.ai/bhavye-mathur/mrover-keyboard-texcoords-segmentation</a>"
      ]
     },
     "metadata": {},
     "output_type": "display_data"
    },
    {
     "data": {
      "text/plain": [
       "<IPython.core.display.HTML object>"
      ],
      "text/html": [
       " View run at <a href='https://wandb.ai/bhavye-mathur/mrover-keyboard-texcoords-segmentation/runs/2iyaf387' target=\"_blank\">https://wandb.ai/bhavye-mathur/mrover-keyboard-texcoords-segmentation/runs/2iyaf387</a>"
      ]
     },
     "metadata": {},
     "output_type": "display_data"
    },
    {
     "name": "stderr",
     "output_type": "stream",
     "text": [
      "\n",
      "  | Name    | Type    | Params | Mode \n",
      "--------------------------------------------\n",
      "0 | model   | Unet    | 4.8 M  | train\n",
      "1 | loss_fn | MSELoss | 0      | train\n",
      "--------------------------------------------\n",
      "4.8 M     Trainable params\n",
      "0         Non-trainable params\n",
      "4.8 M     Total params\n",
      "19.124    Total estimated model params size (MB)\n",
      "362       Modules in train mode\n",
      "0         Modules in eval mode\n"
     ]
    },
    {
     "data": {
      "text/plain": [
       "Sanity Checking: |          | 0/? [00:00<?, ?it/s]"
      ],
      "application/vnd.jupyter.widget-view+json": {
       "version_major": 2,
       "version_minor": 0,
       "model_id": "b650b6a915a547b2806792af5a3356ed"
      }
     },
     "metadata": {},
     "output_type": "display_data"
    }
   ],
   "execution_count": null
  },
  {
   "metadata": {},
   "cell_type": "code",
   "source": "torch.save(model.state_dict(), f\"models/binary_segmentation/{wandb.run.name}-{ARCH}-{BACKBONE}.pt\")",
   "id": "3c25c51542ce5877",
   "outputs": [],
   "execution_count": null
  },
  {
   "metadata": {
    "ExecuteTime": {
     "end_time": "2024-11-05T14:44:01.685113Z",
     "start_time": "2024-11-05T14:44:01.408033Z"
    }
   },
   "cell_type": "code",
   "source": [
    "img, mask = valid_dataset.random_img()\n",
    "pred = model.predict(img)\n",
    "\n",
    "imshow(img, pred)\n",
    "# imshow(pred > 1)"
   ],
   "id": "bc229c61c124c5a1",
   "outputs": [
    {
     "data": {
      "text/plain": [
       "<Figure size 640x480 with 2 Axes>"
      ],
      "image/png": "[encoded data removed]"
     },
     "metadata": {},
     "output_type": "display_data"
    }
   ],
   "execution_count": 23
  }
 ],
 "metadata": {
  "kernelspec": {
   "display_name": "Python 3",
   "language": "python",
   "name": "python3"
  },
  "language_info": {
   "codemirror_mode": {
    "name": "ipython",
    "version": 2
   },
   "file_extension": ".py",
   "mimetype": "text/x-python",
   "name": "python",
   "nbconvert_exporter": "python",
   "pygments_lexer": "ipython2",
   "version": "2.7.6"
  }
 },
 "nbformat": 4,
 "nbformat_minor": 5
}
